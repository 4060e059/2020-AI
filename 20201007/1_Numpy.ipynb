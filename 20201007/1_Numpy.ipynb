{
  "nbformat": 4,
  "nbformat_minor": 0,
  "metadata": {
    "colab": {
      "name": "1_Numpy.ipynb",
      "provenance": [],
      "authorship_tag": "ABX9TyN4zj6u6gvFoQJAfArvdYcQ",
      "include_colab_link": true
    },
    "kernelspec": {
      "name": "python3",
      "display_name": "Python 3"
    },
    "accelerator": "GPU"
  },
  "cells": [
    {
      "cell_type": "markdown",
      "metadata": {
        "id": "view-in-github",
        "colab_type": "text"
      },
      "source": [
        "<a href=\"https://colab.research.google.com/github/4060e059/2020AI/blob/main/1_Numpy.ipynb\" target=\"_parent\"><img src=\"https://colab.research.google.com/assets/colab-badge.svg\" alt=\"Open In Colab\"/></a>"
      ]
    },
    {
      "cell_type": "code",
      "metadata": {
        "id": "m9a6wICwaEbC"
      },
      "source": [
        "import numpy as np\n",
        "ar2=np.array([[0,3,5],[2,8,7]])\n",
        "# ar2.shape\n",
        "ar2.ndim"
      ],
      "execution_count": null,
      "outputs": []
    },
    {
      "cell_type": "code",
      "metadata": {
        "id": "0kf4oy-daKtx"
      },
      "source": [
        "ar=np.array([2,4,6,8]); \n",
        "ar.dtype"
      ],
      "execution_count": null,
      "outputs": []
    },
    {
      "cell_type": "code",
      "metadata": {
        "id": "8Phc1daTaQLY"
      },
      "source": [
        "f_ar = np.array([13,-3,8.88])\n",
        "f_ar\n",
        "\n",
        "intf_ar=f_ar.astype(int)\n",
        "intf_ar"
      ],
      "execution_count": null,
      "outputs": []
    },
    {
      "cell_type": "code",
      "metadata": {
        "id": "aSajJ2JcaY1x"
      },
      "source": [
        "import numpy as np\n",
        "x = np.array([[1,2.0],[0,0],(1+1j,3.)])\n",
        "x"
      ],
      "execution_count": null,
      "outputs": []
    },
    {
      "cell_type": "markdown",
      "metadata": {
        "id": "G0UFTmuWbQfi"
      },
      "source": [
        "*   eye\n",
        "*   zeros\n",
        "*   ones\n",
        "*  ---------------------\n",
        "*   linspace\n",
        "*   indices\n",
        "*   diag\n",
        "*   tile"
      ]
    },
    {
      "cell_type": "code",
      "metadata": {
        "id": "BSRkD65Ratqs"
      },
      "source": [
        "import numpy as np\n",
        "ar9 = np.eye(3);\n",
        "ar9"
      ],
      "execution_count": null,
      "outputs": []
    },
    {
      "cell_type": "code",
      "metadata": {
        "id": "8IIQB6XUbEmJ"
      },
      "source": [
        "import numpy as np\n",
        "ar9 = np.zeros(3);\n",
        "ar9"
      ],
      "execution_count": null,
      "outputs": []
    },
    {
      "cell_type": "code",
      "metadata": {
        "id": "2vpEPh8FbJ07"
      },
      "source": [
        "import numpy as np\n",
        "ar9 = np.ones(3);\n",
        "ar9"
      ],
      "execution_count": null,
      "outputs": []
    },
    {
      "cell_type": "code",
      "metadata": {
        "id": "Z8BGdBojbxk-"
      },
      "source": [
        "import numpy as np\n",
        "np.zeros((2, 3))"
      ],
      "execution_count": null,
      "outputs": []
    },
    {
      "cell_type": "code",
      "metadata": {
        "id": "s7xI-haXcUNt"
      },
      "source": [
        "import numpy as np\n",
        "np.ones((4, 7))"
      ],
      "execution_count": null,
      "outputs": []
    },
    {
      "cell_type": "code",
      "metadata": {
        "id": "34wTabLrcbrB"
      },
      "source": [
        "import numpy as np\n",
        "np.arange(2, 3, 0.1) # start, end, step"
      ],
      "execution_count": null,
      "outputs": []
    },
    {
      "cell_type": "code",
      "metadata": {
        "id": "lY1QaFiMcd85"
      },
      "source": [
        "import numpy as np\n",
        "np.linspace(1., 4., 6) # start, end, num"
      ],
      "execution_count": null,
      "outputs": []
    },
    {
      "cell_type": "code",
      "metadata": {
        "id": "XanHsTtxcgWr"
      },
      "source": [
        "import numpy as np\n",
        "np.linspace(2.0, 3.0, num=5)"
      ],
      "execution_count": null,
      "outputs": []
    },
    {
      "cell_type": "code",
      "metadata": {
        "id": "P0ZqdBb4cixF"
      },
      "source": [
        "import numpy as np\n",
        "np.linspace(2.0, 3.0, num=5, endpoint=False)"
      ],
      "execution_count": null,
      "outputs": []
    },
    {
      "cell_type": "code",
      "metadata": {
        "id": "OYok3T8lclKL"
      },
      "source": [
        "import numpy as np\n",
        "np.linspace(2.0, 3.0, num=5, retstep=True)"
      ],
      "execution_count": null,
      "outputs": []
    },
    {
      "cell_type": "code",
      "metadata": {
        "id": "aQKTnHNWcq2J"
      },
      "source": [
        "import numpy as np\n",
        "np.indices((3, 3))"
      ],
      "execution_count": null,
      "outputs": []
    },
    {
      "cell_type": "code",
      "metadata": {
        "id": "LYxaAY62csEy"
      },
      "source": [
        "import numpy as np\n",
        "ar10=np.diag((2,1,4,6));\n",
        "ar10"
      ],
      "execution_count": null,
      "outputs": []
    },
    {
      "cell_type": "code",
      "metadata": {
        "id": "qluMWJBscuNC"
      },
      "source": [
        "import numpy as np\n",
        "a = np.array([0, 1, 2])\n",
        "np.tile(a, 2)"
      ],
      "execution_count": null,
      "outputs": []
    },
    {
      "cell_type": "code",
      "metadata": {
        "id": "MW-4yIFVcw_S"
      },
      "source": [
        "import numpy as np\n",
        "a = np.array([0, 1, 2])\n",
        "np.tile(a, (2, 2))"
      ],
      "execution_count": null,
      "outputs": []
    },
    {
      "cell_type": "code",
      "metadata": {
        "id": "x2hoq49hczDS"
      },
      "source": [
        "import numpy as np\n",
        "a = np.array([0, 1, 2])\n",
        "np.tile(a, (2, 1, 2))"
      ],
      "execution_count": null,
      "outputs": []
    },
    {
      "cell_type": "code",
      "metadata": {
        "id": "BCUWOZJlc04K"
      },
      "source": [
        "import csv\n",
        "import numpy as np\n",
        "\n",
        "x = '''1,3,2,3,1,2,3,4\n",
        "2,4,5,0.6,5,6,7,8\n",
        "3,7,8,9,9,10,11,12\n",
        "4,1,1.1,1.2,13,14,15,16\n",
        "'''\n",
        "with open(\"abc.txt\",mode=\"w\",encoding=\"utf-8\") as file:\n",
        "  file.write(x)\n",
        "file.close()\n",
        "\n",
        "np.genfromtxt('abc.txt', delimiter=',', invalid_raise = False)"
      ],
      "execution_count": null,
      "outputs": []
    },
    {
      "cell_type": "code",
      "metadata": {
        "id": "xBGRFTcFc3Tj"
      },
      "source": [
        "import numpy as np\n",
        "np.tile(np.array([[1,2],[6,7]]),3)"
      ],
      "execution_count": null,
      "outputs": []
    },
    {
      "cell_type": "code",
      "metadata": {
        "id": "0gzdPv1Sc6jF"
      },
      "source": [
        "import numpy as np\n",
        "np.tile(np.array([[1,2],[6,7]]),(2,2))"
      ],
      "execution_count": null,
      "outputs": []
    },
    {
      "cell_type": "code",
      "metadata": {
        "id": "xXWdNPcGc9K_"
      },
      "source": [
        "import numpy as np\n",
        "np.array([range(i, i + 3) for i in [2, 4, 6]])"
      ],
      "execution_count": null,
      "outputs": []
    },
    {
      "cell_type": "code",
      "metadata": {
        "id": "Wr4UkHStc_W2"
      },
      "source": [
        "import numpy as np\n",
        "np.tile(np.array([[1,2],[6,7]]),3)"
      ],
      "execution_count": null,
      "outputs": []
    },
    {
      "cell_type": "code",
      "metadata": {
        "id": "8iQT7cCvdBFf"
      },
      "source": [
        "import numpy as np\n",
        "np.tile(np.array([[1,2],[6,7]]),(2,2))"
      ],
      "execution_count": null,
      "outputs": []
    },
    {
      "cell_type": "code",
      "metadata": {
        "id": "AJVidpRSdElN"
      },
      "source": [
        "import numpy as np\n",
        "x = np.arange(2,10).reshape(2,4)\n",
        "x"
      ],
      "execution_count": null,
      "outputs": []
    },
    {
      "cell_type": "code",
      "metadata": {
        "id": "J97BE2_LdIq6"
      },
      "source": [
        "import numpy as np\n",
        "y = np.arange(2,10).reshape(4,2)\n",
        "y"
      ],
      "execution_count": null,
      "outputs": []
    },
    {
      "cell_type": "code",
      "metadata": {
        "id": "C1hnmOXhdLaW"
      },
      "source": [
        "import numpy as np\n",
        "ar=np.array([np.arange(1,6),np.arange(10,15)]); \n",
        "ar"
      ],
      "execution_count": null,
      "outputs": []
    },
    {
      "cell_type": "code",
      "metadata": {
        "id": "xkgBZLi0dNhN"
      },
      "source": [
        "import numpy as np\n",
        "ar=np.array([np.arange(1,6),np.arange(10,15)])\n",
        "ar.ravel()"
      ],
      "execution_count": null,
      "outputs": []
    },
    {
      "cell_type": "code",
      "metadata": {
        "id": "VWLZ1Y9-dPUo"
      },
      "source": [
        "import numpy as np\n",
        "ar=np.array([np.arange(1,6),np.arange(10,15)])\n",
        "ar.T"
      ],
      "execution_count": null,
      "outputs": []
    },
    {
      "cell_type": "code",
      "metadata": {
        "id": "j7rArbFMdROz"
      },
      "source": [
        "import numpy as np\n",
        "ar=ar[:, np.newaxis]; ar.shape\n",
        "ar"
      ],
      "execution_count": null,
      "outputs": []
    },
    {
      "cell_type": "code",
      "metadata": {
        "id": "MGr9pG2BdT3f"
      },
      "source": [
        "import numpy as np\n",
        "ar=np.array([np.arange(1,6),np.arange(10,15)])\n",
        "ar.T.ravel()"
      ],
      "execution_count": null,
      "outputs": []
    },
    {
      "cell_type": "code",
      "metadata": {
        "id": "-vwjKWYGdWCP"
      },
      "source": [
        "import numpy as np\n",
        "ar=np.array([14,15,16])\n",
        "ar=ar[:, np.newaxis]\n",
        "ar.shape"
      ],
      "execution_count": null,
      "outputs": []
    },
    {
      "cell_type": "code",
      "metadata": {
        "id": "2xT4zUrodYIY"
      },
      "source": [
        "import numpy as np\n",
        "x = np.arange(2,10)\n",
        "# x\n",
        "print(x[0])\n",
        "print(x[-2])\n",
        "print(x[-1])"
      ],
      "execution_count": null,
      "outputs": []
    },
    {
      "cell_type": "code",
      "metadata": {
        "id": "wjbombg5dawz"
      },
      "source": [
        "import numpy as np\n",
        "ar = np.array([[2,3,4],[9,8,7],[11,12,13]])\n",
        "ar[1,2]"
      ],
      "execution_count": null,
      "outputs": []
    },
    {
      "cell_type": "code",
      "metadata": {
        "id": "TIuUqTIbdclN"
      },
      "source": [
        "import numpy as np\n",
        "ar=2*np.arange(6)\n",
        "# ar\n",
        "ar[1:5:2]"
      ],
      "execution_count": null,
      "outputs": []
    },
    {
      "cell_type": "code",
      "metadata": {
        "id": "wKIcCNk_dep0"
      },
      "source": [
        "import numpy as np\n",
        "ar=2*np.arange(6)\n",
        "# ar\n",
        "ar[1:6:2]"
      ],
      "execution_count": null,
      "outputs": []
    },
    {
      "cell_type": "code",
      "metadata": {
        "id": "lBS75uTDdggP"
      },
      "source": [
        "import numpy as np\n",
        "ar=2*np.arange(6)\n",
        "# ar\n",
        "ar[:4]"
      ],
      "execution_count": null,
      "outputs": []
    },
    {
      "cell_type": "code",
      "metadata": {
        "id": "8OAMGS4ddiX8"
      },
      "source": [
        "import numpy as np\n",
        "ar = np.array([[2,3,4],[9,8,7],[11,12,13]])\n",
        "# ar\n",
        "ar[2,:] "
      ],
      "execution_count": null,
      "outputs": []
    },
    {
      "cell_type": "code",
      "metadata": {
        "id": "7NTzD0RHdknR"
      },
      "source": [
        "import numpy as np\n",
        "ar = np.array([[2,3,4],[9,8,7],[11,12,13]])\n",
        "# ar\n",
        "ar[:,1] "
      ],
      "execution_count": null,
      "outputs": []
    },
    {
      "cell_type": "code",
      "metadata": {
        "id": "_JFzoDzNdmv5"
      },
      "source": [
        "import numpy as np\n",
        "ar = np.array([[2,3,4],[9,8,7],[11,12,13]])\n",
        "# ar\n",
        "ar[2,-1]"
      ],
      "execution_count": null,
      "outputs": []
    },
    {
      "cell_type": "code",
      "metadata": {
        "id": "1v_WpxPfdoeC"
      },
      "source": [
        "import numpy as np\n",
        "ar=2*np.arange(6)\n",
        "# ar\n",
        "ar[::3]"
      ],
      "execution_count": null,
      "outputs": []
    },
    {
      "cell_type": "code",
      "metadata": {
        "id": "IOBbqkafdqV1"
      },
      "source": [
        "import numpy as np\n",
        "ar=2*np.arange(6)\n",
        "# ar\n",
        "ar[:3]=1\n",
        "ar"
      ],
      "execution_count": null,
      "outputs": []
    },
    {
      "cell_type": "code",
      "metadata": {
        "id": "XZ9WWp20dsfk"
      },
      "source": [
        "import numpy as np\n",
        "ar=2*np.arange(6)\n",
        "# ar\n",
        "ar[2:]=np.ones(4)\n",
        "ar"
      ],
      "execution_count": null,
      "outputs": []
    },
    {
      "cell_type": "code",
      "metadata": {
        "id": "D0DMb2Z0duTy"
      },
      "source": [
        "import numpy as np\n",
        "ar=np.arange(1,5)\n",
        "ar.prod()"
      ],
      "execution_count": null,
      "outputs": []
    },
    {
      "cell_type": "code",
      "metadata": {
        "id": "XFLnoowUdxw-"
      },
      "source": [
        "import numpy as np\n",
        "ar=np.array([[2,3,4],[5,6,7],[8,9,10]])\n",
        "ar.sum()"
      ],
      "execution_count": null,
      "outputs": []
    },
    {
      "cell_type": "code",
      "metadata": {
        "id": "s4ToMyEmdzjB"
      },
      "source": [
        "import numpy as np\n",
        "ar=np.array([[2,3,4],[5,6,7],[8,9,10]])\n",
        "ar.mean()"
      ],
      "execution_count": null,
      "outputs": []
    },
    {
      "cell_type": "code",
      "metadata": {
        "id": "KMk4-157d1rZ"
      },
      "source": [
        "import numpy as np\n",
        "ar=np.array([[2,3,4],[5,6,7],[8,9,10]])\n",
        "np.median(ar)"
      ],
      "execution_count": null,
      "outputs": []
    },
    {
      "cell_type": "code",
      "metadata": {
        "id": "btebvtKod3eN"
      },
      "source": [
        "ar=np.array([np.arange(1,6),np.arange(1,6)])\n",
        "# ar\n",
        "np.prod(ar,axis=0)"
      ],
      "execution_count": null,
      "outputs": []
    },
    {
      "cell_type": "code",
      "metadata": {
        "id": "WspyldZqd5ZE"
      },
      "source": [
        "ar=np.array([np.arange(1,6),np.arange(1,6)])\n",
        "# ar\n",
        "np.prod(ar,axis=1)"
      ],
      "execution_count": null,
      "outputs": []
    },
    {
      "cell_type": "code",
      "metadata": {
        "id": "5dNeFG3ed7Fj"
      },
      "source": [
        "import numpy as np\n",
        "arr = np.arange(10)\n",
        "np.sqrt(arr)"
      ],
      "execution_count": null,
      "outputs": []
    },
    {
      "cell_type": "code",
      "metadata": {
        "id": "y7fEuF7fd9tr"
      },
      "source": [
        "import numpy as np\n",
        "arr = np.arange(10)\n",
        "np.exp(arr)"
      ],
      "execution_count": null,
      "outputs": []
    },
    {
      "cell_type": "code",
      "metadata": {
        "id": "eSUI9xv5d_mn"
      },
      "source": [
        "import numpy as np\n",
        "arr = np.array([[1., 2., 3.], [4., 5., 6.]])\n",
        "# arr\n",
        "arr+arr"
      ],
      "execution_count": null,
      "outputs": []
    },
    {
      "cell_type": "code",
      "metadata": {
        "id": "u3G0ZucpeBo7"
      },
      "source": [
        "import numpy as np\n",
        "arr = np.array([[1., 2., 3.], [4., 5., 6.]])\n",
        "# arr\n",
        "arr*arr"
      ],
      "execution_count": null,
      "outputs": []
    },
    {
      "cell_type": "code",
      "metadata": {
        "id": "DhJtTmoTeDnG"
      },
      "source": [
        "import numpy as np\n",
        "ar=np.array([[1,1],[1,1]])\n",
        "ar2=np.array([[2,2],[2,2]])\n",
        "ar*ar2"
      ],
      "execution_count": null,
      "outputs": []
    },
    {
      "cell_type": "code",
      "metadata": {
        "id": "ab4795iMeF28"
      },
      "source": [
        "import numpy as np\n",
        "ar=np.array([[1,1],[1,1]])\n",
        "ar2=np.array([[2,2],[2,2]])\n",
        "ar.dot(ar2)"
      ],
      "execution_count": null,
      "outputs": []
    },
    {
      "cell_type": "code",
      "metadata": {
        "id": "6yQfAzyJeHsZ"
      },
      "source": [
        "import numpy as np\n",
        "arr = np.array([[1., 2., 3.], [4., 5., 6.]])\n",
        "# arr\n",
        "arr-arr"
      ],
      "execution_count": null,
      "outputs": []
    },
    {
      "cell_type": "code",
      "metadata": {
        "id": "A2_n1QdveJf_"
      },
      "source": [
        "import numpy as np\n",
        "arr = np.array([[1., 2., 3.], [4., 5., 6.]])\n",
        "# arr\n",
        "1/arr"
      ],
      "execution_count": null,
      "outputs": []
    },
    {
      "cell_type": "code",
      "metadata": {
        "id": "4gq6e2GHeLPn"
      },
      "source": [
        "import numpy as np\n",
        "arr = np.array([[1., 2., 3.], [4., 5., 6.]])\n",
        "# arr\n",
        "arr ** 0.5"
      ],
      "execution_count": null,
      "outputs": []
    },
    {
      "cell_type": "code",
      "metadata": {
        "id": "K51nSZnueM76"
      },
      "source": [
        "import numpy as np\n",
        "xarr = np.array([1.1, 1.2, 1.3, 1.4, 1.5])\n",
        "yarr = np.array([2.1, 2.2, 2.3, 2.4, 2.5])\n",
        "cond = np.array([True, False, True, True, False])\n",
        "result = [(x if c else y)\n",
        "          for x, y, c in zip(xarr, yarr, cond)]\n",
        "result"
      ],
      "execution_count": null,
      "outputs": []
    },
    {
      "cell_type": "code",
      "metadata": {
        "id": "YHY1L357eOoP"
      },
      "source": [
        "import numpy as np\n",
        "xarr = np.array([1.1, 1.2, 1.3, 1.4, 1.5])\n",
        "yarr = np.array([2.1, 2.2, 2.3, 2.4, 2.5])\n",
        "cond = np.array([True, False, True, True, False])\n",
        "result = np.where(cond, xarr, yarr)\n",
        "result"
      ],
      "execution_count": null,
      "outputs": []
    },
    {
      "cell_type": "code",
      "metadata": {
        "id": "YZTJHgNReQfY"
      },
      "source": [
        "import numpy as np\n",
        "x1 = np.arange(9.0).reshape((3, 3))\n",
        "x2 = np.arange(3.0)\n",
        "np.multiply(x1, x2)"
      ],
      "execution_count": null,
      "outputs": []
    },
    {
      "cell_type": "code",
      "metadata": {
        "id": "C3Jb32Z9eTts"
      },
      "source": [
        "import numpy as np\n",
        "np.arange(3) + 5"
      ],
      "execution_count": null,
      "outputs": []
    },
    {
      "cell_type": "code",
      "metadata": {
        "id": "CdrYpwTUeV6W"
      },
      "source": [
        "import numpy as np\n",
        "np.ones((3, 3)) + np.arange(3)"
      ],
      "execution_count": null,
      "outputs": []
    },
    {
      "cell_type": "code",
      "metadata": {
        "id": "34e3BlDKeXr4"
      },
      "source": [
        "import numpy as np\n",
        "np.arange(3).reshape((3, 1)) + np.arange(3)"
      ],
      "execution_count": null,
      "outputs": []
    },
    {
      "cell_type": "code",
      "metadata": {
        "id": "i3Nv1Z5xeZQ3"
      },
      "source": [
        "import numpy as np\n",
        "np.random.randint(1,5)"
      ],
      "execution_count": null,
      "outputs": []
    },
    {
      "cell_type": "code",
      "metadata": {
        "id": "N2Da-kk4ed5O"
      },
      "source": [
        "import numpy as np\n",
        "np.random.randint(-5,5,size=(2,2))"
      ],
      "execution_count": null,
      "outputs": []
    },
    {
      "cell_type": "code",
      "metadata": {
        "id": "gvHVHTx_efkL"
      },
      "source": [
        "import numpy as np\n",
        "np.random.seed(0)\n",
        "x1 = np.random.randint(10, size=6) \n",
        "x1"
      ],
      "execution_count": null,
      "outputs": []
    },
    {
      "cell_type": "code",
      "metadata": {
        "id": "vcQsfiDcehwi"
      },
      "source": [
        "import numpy as np\n",
        "np.random.seed(0)\n",
        "x2 = np.random.randint(10, size=(3, 4))\n",
        "x2"
      ],
      "execution_count": null,
      "outputs": []
    },
    {
      "cell_type": "code",
      "metadata": {
        "id": "2N-uXDxZejvK"
      },
      "source": [
        "import numpy as np\n",
        "np.random.seed(0)\n",
        "x3 = np.random.randint(10, size=(3, 4, 5))\n",
        "x3"
      ],
      "execution_count": null,
      "outputs": []
    },
    {
      "cell_type": "code",
      "metadata": {
        "id": "tXsEisuCelzb"
      },
      "source": [
        "import numpy as np\n",
        "np.random.randint(1,size=5)"
      ],
      "execution_count": null,
      "outputs": []
    },
    {
      "cell_type": "code",
      "metadata": {
        "id": "EintDGtweoNl"
      },
      "source": [
        "import numpy as np\n",
        "np.convolve([1,2,3],[0,1,0.5], 'same')"
      ],
      "execution_count": null,
      "outputs": []
    },
    {
      "cell_type": "code",
      "metadata": {
        "id": "ICc0QQcmer5Y"
      },
      "source": [
        "import numpy as np\n",
        "np.convolve([1,2,3],[0,1,0.5], 'valid')"
      ],
      "execution_count": null,
      "outputs": []
    },
    {
      "cell_type": "code",
      "metadata": {
        "id": "9eohdQcPes9M"
      },
      "source": [
        "import numpy as np\n",
        "np.convolve([1, 2, 3], [0, 1, 0.5])"
      ],
      "execution_count": null,
      "outputs": []
    },
    {
      "cell_type": "code",
      "metadata": {
        "id": "4hldFjvDeww3"
      },
      "source": [
        "import random as rand\n",
        "\n",
        "list1 = rand.sample(range(1,50), 7)\n",
        "\n",
        "special = list1.pop()\n",
        "\n",
        "list1.sort()\n",
        "\n",
        "print(\"龍大大 我的億 大樂透 開獎中心\")\n",
        "print(\"本期大樂透中獎號碼為：\", end=\"\")\n",
        "for i in range(0,6):\n",
        "    if i == 5:    print(str(list1[i]))\n",
        "    else:    print(str(list1[i]), end=\", \")\n",
        "print(\"本期大樂透特別號為：\" + str(special))"
      ],
      "execution_count": null,
      "outputs": []
    }
  ]
}
