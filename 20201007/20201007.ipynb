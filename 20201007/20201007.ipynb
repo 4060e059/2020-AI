{
  "nbformat": 4,
  "nbformat_minor": 0,
  "metadata": {
    "colab": {
      "name": "20201007.ipynb",
      "provenance": [],
      "collapsed_sections": [],
      "authorship_tag": "ABX9TyM5d4wA0vTr6S1/ccaVUXS+",
      "include_colab_link": true
    },
    "kernelspec": {
      "name": "python3",
      "display_name": "Python 3"
    }
  },
  "cells": [
    {
      "cell_type": "markdown",
      "metadata": {
        "id": "view-in-github",
        "colab_type": "text"
      },
      "source": [
        "<a href=\"https://colab.research.google.com/github/4060e059/2020-AI/blob/main/20201007.ipynb\" target=\"_parent\"><img src=\"https://colab.research.google.com/assets/colab-badge.svg\" alt=\"Open In Colab\"/></a>"
      ]
    },
    {
      "cell_type": "code",
      "metadata": {
        "id": "zKhq854_2Am1",
        "outputId": "45fdf0b4-1698-4358-ee79-0aade4122fe6",
        "colab": {
          "base_uri": "https://localhost:8080/"
        }
      },
      "source": [
        "!git clone https://github.com/tensorflow/examples --depth 1"
      ],
      "execution_count": null,
      "outputs": [
        {
          "output_type": "stream",
          "text": [
            "Cloning into 'examples'...\n",
            "remote: Enumerating objects: 1861, done.\u001b[K\n",
            "remote: Counting objects: 100% (1861/1861), done.\u001b[K\n",
            "remote: Compressing objects: 100% (1170/1170), done.\u001b[K\n",
            "remote: Total 1861 (delta 529), reused 1467 (delta 405), pack-reused 0\u001b[K\n",
            "Receiving objects: 100% (1861/1861), 12.24 MiB | 18.55 MiB/s, done.\n",
            "Resolving deltas: 100% (529/529), done.\n"
          ],
          "name": "stdout"
        }
      ]
    },
    {
      "cell_type": "code",
      "metadata": {
        "id": "iSWpgaks456X",
        "outputId": "aef71900-d80c-458b-a288-524a12b97d14",
        "colab": {
          "base_uri": "https://localhost:8080/"
        }
      },
      "source": [
        "ls"
      ],
      "execution_count": null,
      "outputs": [
        {
          "output_type": "stream",
          "text": [
            "\u001b[0m\u001b[01;34mexamples\u001b[0m/  \u001b[01;34msample_data\u001b[0m/\n"
          ],
          "name": "stdout"
        }
      ]
    },
    {
      "cell_type": "code",
      "metadata": {
        "id": "sJwYnEFP4-Xd",
        "outputId": "7aeed4ab-8dbd-404d-99f0-b25b7fa77025",
        "colab": {
          "base_uri": "https://localhost:8080/"
        }
      },
      "source": [
        "cd examples"
      ],
      "execution_count": null,
      "outputs": [
        {
          "output_type": "stream",
          "text": [
            "/content/examples\n"
          ],
          "name": "stdout"
        }
      ]
    },
    {
      "cell_type": "code",
      "metadata": {
        "id": "f48_eRjW5GKF",
        "outputId": "ada5ecd3-2beb-4ac3-f939-100975a7a31f",
        "colab": {
          "base_uri": "https://localhost:8080/"
        }
      },
      "source": [
        "ls"
      ],
      "execution_count": null,
      "outputs": [
        {
          "output_type": "stream",
          "text": [
            "AUTHORS     CONTRIBUTING.md  LICENSE    setup.py\n",
            "CODEOWNERS  \u001b[0m\u001b[01;34mcourses\u001b[0m/         \u001b[01;34mlite\u001b[0m/      \u001b[01;34mtemplates\u001b[0m/\n",
            "\u001b[01;34mcommunity\u001b[0m/  __init__.py      README.md  \u001b[01;34mtensorflow_examples\u001b[0m/\n"
          ],
          "name": "stdout"
        }
      ]
    }
  ]
}
